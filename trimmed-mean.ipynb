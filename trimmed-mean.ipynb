{
 "cells": [
  {
   "cell_type": "markdown",
   "id": "c4e539e7-c808-4df9-9a24-6de03643f1ba",
   "metadata": {},
   "source": [
    "A trimmed mean is the mean of a dataset that has been calculated after removing a specific percentage of the smallest and largest values from the dataset."
   ]
  },
  {
   "cell_type": "code",
   "execution_count": 1,
   "id": "400d0fe4-3dc2-4941-89d4-a4a61da0e0a3",
   "metadata": {},
   "outputs": [
    {
     "data": {
      "text/plain": [
       "12.375"
      ]
     },
     "execution_count": 1,
     "metadata": {},
     "output_type": "execute_result"
    }
   ],
   "source": [
    "from scipy import stats\n",
    "\n",
    "data = [22, 25, 29, 11, 14, 18, 13, 13, 17, 11, 8, 8, 7, 12, 15, 6, 8, 7, 9, 12]\n",
    "\n",
    "stats.trim_mean(data, 0.1)"
   ]
  },
  {
   "cell_type": "markdown",
   "id": "9c773dcb-f965-4833-bb49-a6614ac235f0",
   "metadata": {},
   "source": [
    "The 10% trimmed mean is 12.375.\n",
    "\n",
    "This is the mean of the dataset after the smallest 10% and largest 10% of values have been removed from the dataset."
   ]
  },
  {
   "cell_type": "code",
   "execution_count": 3,
   "id": "3a6aed84-508c-494f-8cc6-2093a6bcece5",
   "metadata": {},
   "outputs": [
    {
     "data": {
      "text/plain": [
       "array([20.25,  7.75])"
      ]
     },
     "execution_count": 3,
     "metadata": {},
     "output_type": "execute_result"
    }
   ],
   "source": [
    "from scipy import stats\n",
    "import pandas as pd\n",
    "\n",
    "#define DataFrame\n",
    "df = pd.DataFrame({'points': [25, 12, 15, 14, 19, 23, 25, 29],\n",
    "                   'assists': [5, 7, 7, 9, 12, 9, 9, 4],\n",
    "                   'rebounds': [11, 8, 10, 6, 6, 5, 9, 12]})\n",
    "\n",
    "\n",
    "#calculate 5% trimmed mean of 'points' and 'assists' columns\n",
    "stats.trim_mean(df[['points', 'assists']], 0.05)"
   ]
  }
 ],
 "metadata": {
  "kernelspec": {
   "display_name": "Python 3 (ipykernel)",
   "language": "python",
   "name": "python3"
  },
  "language_info": {
   "codemirror_mode": {
    "name": "ipython",
    "version": 3
   },
   "file_extension": ".py",
   "mimetype": "text/x-python",
   "name": "python",
   "nbconvert_exporter": "python",
   "pygments_lexer": "ipython3",
   "version": "3.9.12"
  }
 },
 "nbformat": 4,
 "nbformat_minor": 5
}
