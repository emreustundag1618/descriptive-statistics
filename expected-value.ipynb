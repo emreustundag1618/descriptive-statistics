{
 "cells": [
  {
   "cell_type": "markdown",
   "id": "7880e7e4-1cf6-47ad-8a9f-6b2f36df14e5",
   "metadata": {},
   "source": [
    "A probability distribution tells us the probability that a random variable takes on certain values.\n",
    "\n",
    "To find the expected value of a probability distribution, we can use the following formula:\n",
    "\n",
    "μ = Σx * P(x)\n",
    "\n",
    "where:\n",
    "\n",
    "* x: Data value\n",
    "* P(x): Probability of value"
   ]
  },
  {
   "cell_type": "code",
   "execution_count": 5,
   "id": "35e3b540-be43-40c5-87ec-f0358f26168c",
   "metadata": {},
   "outputs": [],
   "source": [
    "import numpy as np\n",
    "\n",
    "def expected_value(values, weights):\n",
    "    values = np.asarray(values)\n",
    "    weights = np.asarray(weights)\n",
    "    return (values * weights).sum() / weights.sum()"
   ]
  },
  {
   "cell_type": "code",
   "execution_count": 6,
   "id": "3beb6154-0f57-4963-9f4c-d7505eac8613",
   "metadata": {},
   "outputs": [
    {
     "data": {
      "text/plain": [
       "1.4500000000000002"
      ]
     },
     "execution_count": 6,
     "metadata": {},
     "output_type": "execute_result"
    }
   ],
   "source": [
    "#define values\n",
    "values = [0, 1, 2, 3, 4]\n",
    "\n",
    "#define probabilities\n",
    "probs  = [.18, .34, .35, .11, .02]\n",
    "\n",
    "#calculate expected value\n",
    "expected_value(values, probs)"
   ]
  }
 ],
 "metadata": {
  "kernelspec": {
   "display_name": "Python 3 (ipykernel)",
   "language": "python",
   "name": "python3"
  },
  "language_info": {
   "codemirror_mode": {
    "name": "ipython",
    "version": 3
   },
   "file_extension": ".py",
   "mimetype": "text/x-python",
   "name": "python",
   "nbconvert_exporter": "python",
   "pygments_lexer": "ipython3",
   "version": "3.9.12"
  }
 },
 "nbformat": 4,
 "nbformat_minor": 5
}
