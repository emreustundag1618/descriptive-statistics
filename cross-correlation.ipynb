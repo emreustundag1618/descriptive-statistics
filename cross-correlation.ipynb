{
 "cells": [
  {
   "cell_type": "markdown",
   "id": "99bd2daf-5a09-4c6e-b11a-41f077593bee",
   "metadata": {},
   "source": [
    "Cross correlation is a way to measure the degree of similarity between a time series and a lagged version of another time series.\n",
    "\n",
    "This type of correlation is useful to calculate because it can tell us if the values of one time series are predictive of the future values of another time series. In other words, it can tell us if one time series is a leading indicator for another time series.\n",
    "\n",
    "This type of correlation is used in many different fields, including:\n",
    "\n",
    "Business: Marketing spend is often considered to be a leading indicator for future revenue of businesses. For example, if a business spends an abnormally high amount of money on marketing during one quarter, then total revenue is expected to be high x quarters later.\n",
    "\n",
    "Economics: The consumer confidence index (CCI) is considered to be a leading indicator for the gross domestic product (GDP) of a country. For example, if CCI is high during a given month, the GDP is likely to be higher x months later."
   ]
  },
  {
   "cell_type": "code",
   "execution_count": 3,
   "id": "f01f5d60-e657-4089-865c-0a6073b5941e",
   "metadata": {},
   "outputs": [],
   "source": [
    "import numpy as np\n",
    "\n",
    "# create data \n",
    "marketingSpend = np.array([3, 4, 5, 5, 7, 9, 13, 15, 12, 10, 8, 8])\n",
    "revenue = np.array([21, 19, 22, 24, 25, 29, 30, 34, 37, 40, 35, 30]) "
   ]
  },
  {
   "cell_type": "code",
   "execution_count": 4,
   "id": "0b34c863-651e-4d68-8889-97373950599d",
   "metadata": {},
   "outputs": [
    {
     "data": {
      "text/plain": [
       "array([ 0.77109358,  0.46238654,  0.19352232, -0.06066296, -0.28159595,\n",
       "       -0.44531104, -0.49159463, -0.35783655, -0.15697476, -0.03430078,\n",
       "        0.01587722,  0.0070399 ])"
      ]
     },
     "execution_count": 4,
     "metadata": {},
     "output_type": "execute_result"
    }
   ],
   "source": [
    "import statsmodels.api as sm\n",
    "\n",
    "# calculate cross correlation\n",
    "sm.tsa.stattools.ccf(marketingSpend, revenue, adjusted = False)"
   ]
  },
  {
   "cell_type": "markdown",
   "id": "49ca5173-2f2a-4e7b-b912-20ea4cb3aa75",
   "metadata": {},
   "source": [
    "* The cross correlation at lag 0 is 0.771.\n",
    "* The cross correlation at lag 1 is 0.462.\n",
    "* The cross correlation at lag 2 is 0.194.\n",
    "* The cross correlation at lag 3 is -0.061."
   ]
  },
  {
   "cell_type": "markdown",
   "id": "507a04f8-5cb5-4800-b311-3c4f99f76385",
   "metadata": {},
   "source": [
    "Notice that the correlation between the two time series becomes less and less positive as the number of lags increases. This tells us that marketing spend during a given month is quite predictive of revenue one or two months later, but not predictive of revenue beyond more than two months.\n",
    "\n",
    "This intuitively makes sense – we would expect that high marketing spend during a given month is predictive of increased revenue during the next two months, but not necessarily predictive of revenue several months into the future."
   ]
  },
  {
   "cell_type": "code",
   "execution_count": null,
   "id": "e2fd4541-848f-4ca2-9cdc-d16045f5fc0c",
   "metadata": {},
   "outputs": [],
   "source": []
  }
 ],
 "metadata": {
  "kernelspec": {
   "display_name": "Python 3 (ipykernel)",
   "language": "python",
   "name": "python3"
  },
  "language_info": {
   "codemirror_mode": {
    "name": "ipython",
    "version": 3
   },
   "file_extension": ".py",
   "mimetype": "text/x-python",
   "name": "python",
   "nbconvert_exporter": "python",
   "pygments_lexer": "ipython3",
   "version": "3.9.12"
  }
 },
 "nbformat": 4,
 "nbformat_minor": 5
}
