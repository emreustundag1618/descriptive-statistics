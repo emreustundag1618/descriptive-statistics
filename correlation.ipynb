{
 "cells": [
  {
   "cell_type": "markdown",
   "id": "7e9c427f-7469-4a67-8e91-7a2eebbcd3d1",
   "metadata": {},
   "source": [
    "One way to quantify the relationship between two variables is to use the *Pearson correlation coefficient*, which is a measure of the linear association between two variables. It always takes on a value between -1 and 1 where:\n",
    "\n",
    "* -1 indicates a perfectly negative linear correlation between two variables\n",
    "* 0 indicates no linear correlation between two variables\n",
    "* 1 indicates a perfectly positive linear correlation between two variables"
   ]
  },
  {
   "cell_type": "code",
   "execution_count": 3,
   "id": "59d20357-70f1-4e59-b44d-dd78bf6bf15b",
   "metadata": {},
   "outputs": [],
   "source": [
    "import numpy as np\n",
    "\n",
    "np.random.seed(100)\n",
    "\n",
    "# create array of 50 random integers between 0 an 10\n",
    "var1 = np.random.randint(0, 10, 50)\n",
    "\n",
    "# create a positively correlated array with some random noise\n",
    "var2 = var1 + np.random.normal(0, 10, 50)"
   ]
  },
  {
   "cell_type": "code",
   "execution_count": 4,
   "id": "5e26efbb-293d-4f27-a4cc-3c41860dc006",
   "metadata": {},
   "outputs": [
    {
     "data": {
      "text/plain": [
       "array([8, 8, 3, 7, 7, 0, 4, 2, 5, 2, 2, 2, 1, 0, 8, 4, 0, 9, 6, 2, 4, 1,\n",
       "       5, 3, 4, 4, 3, 7, 1, 1, 7, 7, 0, 2, 9, 9, 3, 2, 5, 8, 1, 0, 7, 6,\n",
       "       2, 0, 8, 2, 5, 1])"
      ]
     },
     "execution_count": 4,
     "metadata": {},
     "output_type": "execute_result"
    }
   ],
   "source": [
    "var1"
   ]
  },
  {
   "cell_type": "code",
   "execution_count": 5,
   "id": "96fe120e-cd70-4518-bf57-1815be1ee6a0",
   "metadata": {},
   "outputs": [
    {
     "data": {
      "text/plain": [
       "array([ 13.92575746,   8.37958129,   6.71967572,  10.59753947,\n",
       "         5.59603535,  -4.43738512,   9.68770162,   7.38488768,\n",
       "        18.15574179,  16.78978297,   4.21426255,  -9.17894159,\n",
       "        -0.8499993 ,  -4.31187446,   9.42536252, -10.96393454,\n",
       "         3.0687456 ,   8.5365277 ,  10.17144275,  -4.03770522,\n",
       "        10.85967248,   9.59973786,   6.91555442,  14.78227928,\n",
       "        10.00283569, -14.44659863,   3.4258809 ,   6.75915012,\n",
       "         4.84057844,   0.50907502,  -9.01691177,   5.61237434,\n",
       "         0.12086266, -10.98144167,   7.71113962,   6.17078367,\n",
       "         1.20831746,   8.75751769,  28.80595342,  -3.46700861,\n",
       "        -1.91143345,  -8.54225772,  15.63406468,   2.8361877 ,\n",
       "        -7.02225772,  -7.38562393,   4.04661119,   2.84200853,\n",
       "         3.14377547,  12.08439231])"
      ]
     },
     "execution_count": 5,
     "metadata": {},
     "output_type": "execute_result"
    }
   ],
   "source": [
    "var2"
   ]
  },
  {
   "cell_type": "code",
   "execution_count": 7,
   "id": "b3d098cb-da20-4159-aebd-a86445bb24b4",
   "metadata": {},
   "outputs": [
    {
     "data": {
      "text/plain": [
       "array([[1.       , 0.3350184],\n",
       "       [0.3350184, 1.       ]])"
      ]
     },
     "execution_count": 7,
     "metadata": {},
     "output_type": "execute_result"
    }
   ],
   "source": [
    "# calculate the correlation between the two arrays\n",
    "corr = np.corrcoef(var1, var2)\n",
    "corr"
   ]
  },
  {
   "cell_type": "markdown",
   "id": "d52061df-685a-46eb-954b-dca836ea065c",
   "metadata": {},
   "source": [
    "##### To test if this correlation is statistically significant, we have to calculate Pearson correlation coefficient by using scipy pearsonr() function"
   ]
  },
  {
   "cell_type": "code",
   "execution_count": 8,
   "id": "295d3313-acb8-4bba-9fb7-80d7d76718d9",
   "metadata": {},
   "outputs": [],
   "source": [
    "from scipy.stats.stats import pearsonr\n",
    "pearson = pearsonr(var1, var2)"
   ]
  },
  {
   "cell_type": "code",
   "execution_count": 22,
   "id": "87ec6650-9996-468a-8481-491a10801b08",
   "metadata": {},
   "outputs": [
    {
     "name": "stdout",
     "output_type": "stream",
     "text": [
      "Pearson Correlation Coefficient: 0.335\n",
      "P-value: 0.017\n"
     ]
    }
   ],
   "source": [
    "print(\"Pearson Correlation Coefficient: %.3f\" % pearson[0])\n",
    "print(\"P-value: %.3f\" % pearson[1])"
   ]
  },
  {
   "cell_type": "markdown",
   "id": "b90a2805-c609-466f-bed3-118bab32a395",
   "metadata": {},
   "source": [
    "##### With pandas DataFrame"
   ]
  },
  {
   "cell_type": "code",
   "execution_count": 23,
   "id": "6575518b-422b-46b0-8baa-75bc316ab4f5",
   "metadata": {},
   "outputs": [
    {
     "data": {
      "text/html": [
       "<div>\n",
       "<style scoped>\n",
       "    .dataframe tbody tr th:only-of-type {\n",
       "        vertical-align: middle;\n",
       "    }\n",
       "\n",
       "    .dataframe tbody tr th {\n",
       "        vertical-align: top;\n",
       "    }\n",
       "\n",
       "    .dataframe thead th {\n",
       "        text-align: right;\n",
       "    }\n",
       "</style>\n",
       "<table border=\"1\" class=\"dataframe\">\n",
       "  <thead>\n",
       "    <tr style=\"text-align: right;\">\n",
       "      <th></th>\n",
       "      <th>A</th>\n",
       "      <th>B</th>\n",
       "      <th>C</th>\n",
       "    </tr>\n",
       "  </thead>\n",
       "  <tbody>\n",
       "    <tr>\n",
       "      <th>0</th>\n",
       "      <td>1</td>\n",
       "      <td>4</td>\n",
       "      <td>8</td>\n",
       "    </tr>\n",
       "    <tr>\n",
       "      <th>1</th>\n",
       "      <td>8</td>\n",
       "      <td>2</td>\n",
       "      <td>2</td>\n",
       "    </tr>\n",
       "    <tr>\n",
       "      <th>2</th>\n",
       "      <td>7</td>\n",
       "      <td>2</td>\n",
       "      <td>1</td>\n",
       "    </tr>\n",
       "    <tr>\n",
       "      <th>3</th>\n",
       "      <td>2</td>\n",
       "      <td>7</td>\n",
       "      <td>1</td>\n",
       "    </tr>\n",
       "    <tr>\n",
       "      <th>4</th>\n",
       "      <td>0</td>\n",
       "      <td>5</td>\n",
       "      <td>3</td>\n",
       "    </tr>\n",
       "  </tbody>\n",
       "</table>\n",
       "</div>"
      ],
      "text/plain": [
       "   A  B  C\n",
       "0  1  4  8\n",
       "1  8  2  2\n",
       "2  7  2  1\n",
       "3  2  7  1\n",
       "4  0  5  3"
      ]
     },
     "execution_count": 23,
     "metadata": {},
     "output_type": "execute_result"
    }
   ],
   "source": [
    "import pandas as pd\n",
    "\n",
    "data = pd.DataFrame(np.random.randint(0, 10, size = (5,3)), columns = [\"A\",\"B\",\"C\"])\n",
    "data"
   ]
  },
  {
   "cell_type": "code",
   "execution_count": 24,
   "id": "2e494922-4e24-40fe-bd89-e3c337de3cc5",
   "metadata": {},
   "outputs": [
    {
     "data": {
      "text/html": [
       "<div>\n",
       "<style scoped>\n",
       "    .dataframe tbody tr th:only-of-type {\n",
       "        vertical-align: middle;\n",
       "    }\n",
       "\n",
       "    .dataframe tbody tr th {\n",
       "        vertical-align: top;\n",
       "    }\n",
       "\n",
       "    .dataframe thead th {\n",
       "        text-align: right;\n",
       "    }\n",
       "</style>\n",
       "<table border=\"1\" class=\"dataframe\">\n",
       "  <thead>\n",
       "    <tr style=\"text-align: right;\">\n",
       "      <th></th>\n",
       "      <th>A</th>\n",
       "      <th>B</th>\n",
       "      <th>C</th>\n",
       "    </tr>\n",
       "  </thead>\n",
       "  <tbody>\n",
       "    <tr>\n",
       "      <th>A</th>\n",
       "      <td>1.000000</td>\n",
       "      <td>-0.775567</td>\n",
       "      <td>-0.493769</td>\n",
       "    </tr>\n",
       "    <tr>\n",
       "      <th>B</th>\n",
       "      <td>-0.775567</td>\n",
       "      <td>1.000000</td>\n",
       "      <td>0.000000</td>\n",
       "    </tr>\n",
       "    <tr>\n",
       "      <th>C</th>\n",
       "      <td>-0.493769</td>\n",
       "      <td>0.000000</td>\n",
       "      <td>1.000000</td>\n",
       "    </tr>\n",
       "  </tbody>\n",
       "</table>\n",
       "</div>"
      ],
      "text/plain": [
       "          A         B         C\n",
       "A  1.000000 -0.775567 -0.493769\n",
       "B -0.775567  1.000000  0.000000\n",
       "C -0.493769  0.000000  1.000000"
      ]
     },
     "execution_count": 24,
     "metadata": {},
     "output_type": "execute_result"
    }
   ],
   "source": [
    "# calculate correlation coefficients for all pairwise combinations\n",
    "data.corr()"
   ]
  },
  {
   "cell_type": "code",
   "execution_count": 26,
   "id": "953f59b9-d456-4b99-8afe-0a97c12b36d6",
   "metadata": {},
   "outputs": [
    {
     "data": {
      "text/plain": [
       "-0.7755667343294814"
      ]
     },
     "execution_count": 26,
     "metadata": {},
     "output_type": "execute_result"
    }
   ],
   "source": [
    "# correlation for specific variables\n",
    "data[\"A\"].corr(data[\"B\"])"
   ]
  }
 ],
 "metadata": {
  "kernelspec": {
   "display_name": "Python 3 (ipykernel)",
   "language": "python",
   "name": "python3"
  },
  "language_info": {
   "codemirror_mode": {
    "name": "ipython",
    "version": 3
   },
   "file_extension": ".py",
   "mimetype": "text/x-python",
   "name": "python",
   "nbconvert_exporter": "python",
   "pygments_lexer": "ipython3",
   "version": "3.9.12"
  }
 },
 "nbformat": 4,
 "nbformat_minor": 5
}
