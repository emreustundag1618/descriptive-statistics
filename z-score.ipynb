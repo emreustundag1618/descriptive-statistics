{
 "cells": [
  {
   "cell_type": "markdown",
   "id": "9d4b2a76-ea01-4a9d-80e5-86234e9a68dc",
   "metadata": {},
   "source": [
    "In statistics, a z-score tells us how many standard deviations away a value is from the mean. We use the following formula to calculate a z-score:\n",
    "\n",
    "* z = (X – μ) / σ\n",
    "\n",
    "where:\n",
    "\n",
    "* X is a single raw data value\n",
    "* μ is the population mean\n",
    "* σ is the population standard deviation"
   ]
  },
  {
   "cell_type": "markdown",
   "id": "89a94616-a0cf-4c56-a6cb-91589e095f6c",
   "metadata": {},
   "source": [
    "#### Numpy One-Dimensional Arrays"
   ]
  },
  {
   "cell_type": "code",
   "execution_count": 3,
   "id": "5850fbed-3d31-42c0-8680-8ea58cbf85d2",
   "metadata": {},
   "outputs": [],
   "source": [
    "# Import modules\n",
    "import pandas as pd\n",
    "import numpy as np\n",
    "import scipy.stats as stats"
   ]
  },
  {
   "cell_type": "code",
   "execution_count": 4,
   "id": "66ca70e3-e96a-40e6-92a3-673bf1b3c2b5",
   "metadata": {},
   "outputs": [],
   "source": [
    "# Create an array of values\n",
    "data = np.array([6, 7, 7, 12, 13, 13, 15, 16, 19, 22])"
   ]
  },
  {
   "cell_type": "code",
   "execution_count": 5,
   "id": "e8676701-e43f-49b5-a27d-949ac8c67a19",
   "metadata": {},
   "outputs": [
    {
     "data": {
      "text/plain": [
       "array([-1.39443338, -1.19522861, -1.19522861, -0.19920477,  0.        ,\n",
       "        0.        ,  0.39840954,  0.5976143 ,  1.19522861,  1.79284291])"
      ]
     },
     "execution_count": 5,
     "metadata": {},
     "output_type": "execute_result"
    }
   ],
   "source": [
    "# Calculate z-scores for each value in the array\n",
    "stats.zscore(data)"
   ]
  },
  {
   "cell_type": "markdown",
   "id": "cd379763-835a-4d97-a569-cf017382808f",
   "metadata": {
    "tags": []
   },
   "source": [
    "##### Each z-score tells us how many standard deviations away an individual value is from the mean. For example:\n",
    "\n",
    "* The first value of “6” in the array is -1.394 standard deviations *below* the mean.\n",
    "* The fifth value of “13” in the array is 0 standard deviations away from the mean, i.e. it is *equal* to the mean.\n",
    "* The last value of “22” in the array is 1.793 standard deviations *above* the mean."
   ]
  },
  {
   "cell_type": "markdown",
   "id": "ca21e5c9-4a9e-4e73-a4cc-ad5dc3b8ecd5",
   "metadata": {},
   "source": [
    "#### Numpy Multi-Dimensional Arrays"
   ]
  },
  {
   "cell_type": "code",
   "execution_count": 7,
   "id": "aaf9776f-ff13-416c-be0b-810cdbf2c83d",
   "metadata": {},
   "outputs": [
    {
     "data": {
      "text/plain": [
       "array([[-1.56892908, -0.58834841,  0.39223227,  0.39223227,  1.37281295],\n",
       "       [-0.81649658, -0.81649658, -0.81649658,  1.22474487,  1.22474487],\n",
       "       [-1.16666667, -1.16666667,  0.5       ,  0.5       ,  1.33333333]])"
      ]
     },
     "execution_count": 7,
     "metadata": {},
     "output_type": "execute_result"
    }
   ],
   "source": [
    "data = np.array([[5, 6, 7, 7, 8],\n",
    "                 [8, 8, 8, 9, 9],\n",
    "                 [2, 2, 4, 4, 5]])\n",
    "stats.zscore(data, axis = 1) # calculates the z-scores for each array"
   ]
  },
  {
   "cell_type": "markdown",
   "id": "a15aa49a-44a6-45d3-a630-4ae3f3e56276",
   "metadata": {},
   "source": [
    "* The first value of “5” in the first array is -1.159 standard deviations *below* the mean of its array.\n",
    "* The first value of “8” in the second array is .816 standard deviations *below* the mean of its array.\n",
    "* The first value of “2” in the third array is 1.167 standard deviations *below* the mean of its array."
   ]
  },
  {
   "cell_type": "markdown",
   "id": "7fc22ee1-2d10-45ac-929e-cc94f063d66b",
   "metadata": {},
   "source": [
    "#### Pandas DataFrames"
   ]
  },
  {
   "cell_type": "code",
   "execution_count": 11,
   "id": "ee2c337b-b15f-48b9-ace2-2276fdbaf675",
   "metadata": {},
   "outputs": [
    {
     "data": {
      "text/html": [
       "<div>\n",
       "<style scoped>\n",
       "    .dataframe tbody tr th:only-of-type {\n",
       "        vertical-align: middle;\n",
       "    }\n",
       "\n",
       "    .dataframe tbody tr th {\n",
       "        vertical-align: top;\n",
       "    }\n",
       "\n",
       "    .dataframe thead th {\n",
       "        text-align: right;\n",
       "    }\n",
       "</style>\n",
       "<table border=\"1\" class=\"dataframe\">\n",
       "  <thead>\n",
       "    <tr style=\"text-align: right;\">\n",
       "      <th></th>\n",
       "      <th>A</th>\n",
       "      <th>B</th>\n",
       "      <th>C</th>\n",
       "    </tr>\n",
       "  </thead>\n",
       "  <tbody>\n",
       "    <tr>\n",
       "      <th>0</th>\n",
       "      <td>9</td>\n",
       "      <td>8</td>\n",
       "      <td>6</td>\n",
       "    </tr>\n",
       "    <tr>\n",
       "      <th>1</th>\n",
       "      <td>0</td>\n",
       "      <td>2</td>\n",
       "      <td>7</td>\n",
       "    </tr>\n",
       "    <tr>\n",
       "      <th>2</th>\n",
       "      <td>6</td>\n",
       "      <td>3</td>\n",
       "      <td>4</td>\n",
       "    </tr>\n",
       "    <tr>\n",
       "      <th>3</th>\n",
       "      <td>5</td>\n",
       "      <td>3</td>\n",
       "      <td>9</td>\n",
       "    </tr>\n",
       "    <tr>\n",
       "      <th>4</th>\n",
       "      <td>3</td>\n",
       "      <td>9</td>\n",
       "      <td>7</td>\n",
       "    </tr>\n",
       "  </tbody>\n",
       "</table>\n",
       "</div>"
      ],
      "text/plain": [
       "   A  B  C\n",
       "0  9  8  6\n",
       "1  0  2  7\n",
       "2  6  3  4\n",
       "3  5  3  9\n",
       "4  3  9  7"
      ]
     },
     "execution_count": 11,
     "metadata": {},
     "output_type": "execute_result"
    }
   ],
   "source": [
    "data = pd.DataFrame(np.random.randint(0, 10, size = (5, 3)), columns = [\"A\",\"B\",\"C\"])\n",
    "data"
   ]
  },
  {
   "cell_type": "code",
   "execution_count": 12,
   "id": "6adfdd67-eb2e-43e3-b0a2-4afec9feca09",
   "metadata": {},
   "outputs": [
    {
     "data": {
      "text/html": [
       "<div>\n",
       "<style scoped>\n",
       "    .dataframe tbody tr th:only-of-type {\n",
       "        vertical-align: middle;\n",
       "    }\n",
       "\n",
       "    .dataframe tbody tr th {\n",
       "        vertical-align: top;\n",
       "    }\n",
       "\n",
       "    .dataframe thead th {\n",
       "        text-align: right;\n",
       "    }\n",
       "</style>\n",
       "<table border=\"1\" class=\"dataframe\">\n",
       "  <thead>\n",
       "    <tr style=\"text-align: right;\">\n",
       "      <th></th>\n",
       "      <th>A</th>\n",
       "      <th>B</th>\n",
       "      <th>C</th>\n",
       "    </tr>\n",
       "  </thead>\n",
       "  <tbody>\n",
       "    <tr>\n",
       "      <th>0</th>\n",
       "      <td>1.463418</td>\n",
       "      <td>1.035098</td>\n",
       "      <td>-0.369274</td>\n",
       "    </tr>\n",
       "    <tr>\n",
       "      <th>1</th>\n",
       "      <td>-1.529937</td>\n",
       "      <td>-1.035098</td>\n",
       "      <td>0.246183</td>\n",
       "    </tr>\n",
       "    <tr>\n",
       "      <th>2</th>\n",
       "      <td>0.465633</td>\n",
       "      <td>-0.690066</td>\n",
       "      <td>-1.600189</td>\n",
       "    </tr>\n",
       "    <tr>\n",
       "      <th>3</th>\n",
       "      <td>0.133038</td>\n",
       "      <td>-0.690066</td>\n",
       "      <td>1.477098</td>\n",
       "    </tr>\n",
       "    <tr>\n",
       "      <th>4</th>\n",
       "      <td>-0.532152</td>\n",
       "      <td>1.380131</td>\n",
       "      <td>0.246183</td>\n",
       "    </tr>\n",
       "  </tbody>\n",
       "</table>\n",
       "</div>"
      ],
      "text/plain": [
       "          A         B         C\n",
       "0  1.463418  1.035098 -0.369274\n",
       "1 -1.529937 -1.035098  0.246183\n",
       "2  0.465633 -0.690066 -1.600189\n",
       "3  0.133038 -0.690066  1.477098\n",
       "4 -0.532152  1.380131  0.246183"
      ]
     },
     "execution_count": 12,
     "metadata": {},
     "output_type": "execute_result"
    }
   ],
   "source": [
    "data.apply(stats.zscore)  # calculates the z-score of the values by column"
   ]
  }
 ],
 "metadata": {
  "kernelspec": {
   "display_name": "Python 3 (ipykernel)",
   "language": "python",
   "name": "python3"
  },
  "language_info": {
   "codemirror_mode": {
    "name": "ipython",
    "version": 3
   },
   "file_extension": ".py",
   "mimetype": "text/x-python",
   "name": "python",
   "nbconvert_exporter": "python",
   "pygments_lexer": "ipython3",
   "version": "3.9.12"
  }
 },
 "nbformat": 4,
 "nbformat_minor": 5
}
