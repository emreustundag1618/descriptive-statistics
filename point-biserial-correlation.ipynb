{
 "cells": [
  {
   "cell_type": "markdown",
   "id": "60798846-629b-47e1-99e2-6a1433c979e2",
   "metadata": {},
   "source": [
    "Point-biserial correlation is used to measure the relationship between a binary variable, x, and a continuous variable, y.\n",
    "\n",
    "Similar to the Pearson correlation coefficient, the point-biserial correlation coefficient takes on a value between -1 and 1 where:\n",
    "\n",
    "* -1 indicates a perfectly negative correlation between two variables\n",
    "* 0 indicates no correlation between two variables\n",
    "* 1 indicates a perfectly positive correlation between two variables"
   ]
  },
  {
   "cell_type": "code",
   "execution_count": 1,
   "id": "b5ce0bf1-6898-4182-86e6-745ada1660ee",
   "metadata": {},
   "outputs": [],
   "source": [
    "x = [0, 1, 1, 0, 0, 0, 1, 0, 1, 1, 0]\n",
    "y = [12, 14, 17, 17, 11, 22, 23, 11, 19, 8, 12]"
   ]
  },
  {
   "cell_type": "code",
   "execution_count": 6,
   "id": "b241a81a-a0b1-4934-a69c-e9fff9f6e610",
   "metadata": {},
   "outputs": [
    {
     "name": "stdout",
     "output_type": "stream",
     "text": [
      "Correlation:  0.21816345457887454\n",
      "P-value:  0.5192842928773614\n"
     ]
    }
   ],
   "source": [
    "import scipy.stats as stats\n",
    "\n",
    "# calculate point-biserial correlation\n",
    "corr, p = stats.pointbiserialr(x, y)\n",
    "\n",
    "print(\"Correlation: \", corr)\n",
    "print(\"P-value: \", p)"
   ]
  },
  {
   "cell_type": "markdown",
   "id": "0fa51a1f-1c25-4f89-9cb0-0f1c9b038eb6",
   "metadata": {},
   "source": [
    "Since the correlation coefficient is positive, this indicates that when the variable x takes on the value “1” that the variable y tends to take on higher values compared to when the variable x takes on the value “0.”\n",
    "\n",
    "Since the p-value of this correlation is not less than .05, this correlation is not statistically significant =)"
   ]
  },
  {
   "cell_type": "code",
   "execution_count": null,
   "id": "07bcc321-fb2b-4a42-9479-533e19b47d0f",
   "metadata": {},
   "outputs": [],
   "source": []
  }
 ],
 "metadata": {
  "kernelspec": {
   "display_name": "Python 3 (ipykernel)",
   "language": "python",
   "name": "python3"
  },
  "language_info": {
   "codemirror_mode": {
    "name": "ipython",
    "version": 3
   },
   "file_extension": ".py",
   "mimetype": "text/x-python",
   "name": "python",
   "nbconvert_exporter": "python",
   "pygments_lexer": "ipython3",
   "version": "3.9.12"
  }
 },
 "nbformat": 4,
 "nbformat_minor": 5
}
