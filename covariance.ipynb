{
 "cells": [
  {
   "cell_type": "markdown",
   "id": "c01c3969-9c9c-4a58-b195-6bd0187d010e",
   "metadata": {},
   "source": [
    "Covariance is a measure of how changes in one variable are associated with changes in a second variable. Specifically, it’s a measure of the degree to which two variables are linearly associated.\n",
    "\n",
    "A covariance matrix is a square matrix that shows the covariance between many different variables. This can be a useful way to understand how different variables are related in a dataset."
   ]
  },
  {
   "cell_type": "code",
   "execution_count": 1,
   "id": "328f6d6d-8321-476a-b102-c5eefbf48125",
   "metadata": {},
   "outputs": [],
   "source": [
    "import numpy as np\n",
    "\n",
    "math = [84, 82, 81, 89, 73, 94, 92, 70, 88, 95]\n",
    "science = [85, 82, 72, 77, 75, 89, 95, 84, 77, 94]\n",
    "history = [97, 94, 93, 95, 88, 82, 78, 84, 69, 78]\n",
    "\n",
    "data = np.array([math, science, history])"
   ]
  },
  {
   "cell_type": "code",
   "execution_count": 3,
   "id": "16f3fe5a-a2ce-44c7-a461-8fb9ddd5c1ef",
   "metadata": {},
   "outputs": [
    {
     "data": {
      "text/plain": [
       "array([[ 64.96,  33.2 , -24.44],\n",
       "       [ 33.2 ,  56.4 , -24.1 ],\n",
       "       [-24.44, -24.1 ,  75.56]])"
      ]
     },
     "execution_count": 3,
     "metadata": {},
     "output_type": "execute_result"
    }
   ],
   "source": [
    "np.cov(data, bias = True)"
   ]
  },
  {
   "cell_type": "markdown",
   "id": "49ee77cb-63e1-402f-a0fa-89184b0de557",
   "metadata": {},
   "source": [
    "A positive number for covariance indicates that two variables tend to increase or decrease in tandem. For example, math and science have a positive covariance (33.2), which indicates that students who score high on math also tend to score high on science. Conversely, students who score low on math also tend to score low on science."
   ]
  },
  {
   "cell_type": "code",
   "execution_count": 5,
   "id": "79af7b52-5f49-4442-8f3a-9b9b363ab9e1",
   "metadata": {},
   "outputs": [
    {
     "data": {
      "image/png": "[encoded data removed]",
      "text/plain": [
       "<Figure size 432x288 with 2 Axes>"
      ]
     },
     "metadata": {
      "needs_background": "light"
     },
     "output_type": "display_data"
    }
   ],
   "source": [
    "import seaborn as sns\n",
    "import matplotlib.pyplot as plt\n",
    "\n",
    "cov = np.cov(data, bias=True)\n",
    "labs = ['math', 'science', 'history']\n",
    "\n",
    "sns.heatmap(cov, annot=True, fmt='g', xticklabels=labs, yticklabels=labs, cmap='YlGnBu')\n",
    "plt.show()"
   ]
  },
  {
   "cell_type": "code",
   "execution_count": null,
   "id": "48c1f4f7-768a-4b49-a53c-30028d93fcca",
   "metadata": {},
   "outputs": [],
   "source": []
  }
 ],
 "metadata": {
  "kernelspec": {
   "display_name": "Python 3 (ipykernel)",
   "language": "python",
   "name": "python3"
  },
  "language_info": {
   "codemirror_mode": {
    "name": "ipython",
    "version": 3
   },
   "file_extension": ".py",
   "mimetype": "text/x-python",
   "name": "python",
   "nbconvert_exporter": "python",
   "pygments_lexer": "ipython3",
   "version": "3.9.12"
  }
 },
 "nbformat": 4,
 "nbformat_minor": 5
}
